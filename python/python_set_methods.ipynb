{
  "cells": [
    {
      "cell_type": "markdown",
      "id": "8d3ac59b",
      "metadata": {
        "id": "8d3ac59b"
      },
      "source": [
        "# Python Set Methods\n",
        "This notebook provides short descriptions and code samples for commonly used Python set methods."
      ]
    },
    {
      "cell_type": "markdown",
      "id": "671e6a36",
      "metadata": {
        "id": "671e6a36"
      },
      "source": [
        "## Table of Contents\n",
        "- [add()](#add)\n",
        "- [clear()](#clear)\n",
        "- [copy()](#copy)\n",
        "- [difference()](#difference)\n",
        "- [difference_update()](#difference_update)\n",
        "- [discard()](#discard)\n",
        "- [intersection()](#intersection)\n",
        "- [isdisjoint()](#isdisjoint)\n",
        "- [issubset()](#issubset)\n",
        "- [pop()](#pop)\n",
        "- [remove()](#remove)\n",
        "- [symmetric_difference()](#symmetric_difference)\n",
        "- [symmetric_difference_update()](#symmetric_difference_update)\n",
        "- [union()](#union)\n",
        "- [update()](#update)"
      ]
    },
    {
      "cell_type": "markdown",
      "id": "7ae1343e",
      "metadata": {
        "id": "7ae1343e"
      },
      "source": [
        "## add()\n",
        "Adds an element to the set."
      ]
    },
    {
      "cell_type": "code",
      "execution_count": 1,
      "id": "7e18828d",
      "metadata": {
        "colab": {
          "base_uri": "https://localhost:8080/"
        },
        "id": "7e18828d",
        "outputId": "a1d9cb70-9bf2-4e9f-f0f0-75b80e962c72"
      },
      "outputs": [
        {
          "output_type": "stream",
          "name": "stdout",
          "text": [
            "{1, 2, 3, 4}\n"
          ]
        }
      ],
      "source": [
        "s = {1, 2, 3}\n",
        "s.add(4)\n",
        "print(s)  # {1, 2, 3, 4}"
      ]
    },
    {
      "cell_type": "markdown",
      "id": "c2182bfa",
      "metadata": {
        "id": "c2182bfa"
      },
      "source": [
        "## clear()\n",
        "Removes all elements from the set."
      ]
    },
    {
      "cell_type": "code",
      "execution_count": 2,
      "id": "8bc45186",
      "metadata": {
        "colab": {
          "base_uri": "https://localhost:8080/"
        },
        "id": "8bc45186",
        "outputId": "cfc4b36c-4d70-4451-fa5f-8ab6210f867a"
      },
      "outputs": [
        {
          "output_type": "stream",
          "name": "stdout",
          "text": [
            "set()\n"
          ]
        }
      ],
      "source": [
        "s = {1, 2, 3}\n",
        "s.clear()\n",
        "print(s)  # set()"
      ]
    },
    {
      "cell_type": "markdown",
      "id": "273fb055",
      "metadata": {
        "id": "273fb055"
      },
      "source": [
        "## copy()\n",
        "Returns a shallow copy of the set."
      ]
    },
    {
      "cell_type": "code",
      "execution_count": 3,
      "id": "f7e1d41c",
      "metadata": {
        "colab": {
          "base_uri": "https://localhost:8080/"
        },
        "id": "f7e1d41c",
        "outputId": "758dfd88-440e-43e6-8b30-69e1ffc32bd5"
      },
      "outputs": [
        {
          "output_type": "stream",
          "name": "stdout",
          "text": [
            "{1, 2, 3}\n"
          ]
        }
      ],
      "source": [
        "s = {1, 2, 3}\n",
        "s_copy = s.copy()\n",
        "print(s_copy)  # {1, 2, 3}"
      ]
    },
    {
      "cell_type": "markdown",
      "id": "2729deb4",
      "metadata": {
        "id": "2729deb4"
      },
      "source": [
        "## difference()\n",
        "Returns a set containing the difference between two or more sets."
      ]
    },
    {
      "cell_type": "code",
      "execution_count": 4,
      "id": "c3fae1f2",
      "metadata": {
        "colab": {
          "base_uri": "https://localhost:8080/"
        },
        "id": "c3fae1f2",
        "outputId": "353b4ff7-e458-4373-e940-42980f190b2f"
      },
      "outputs": [
        {
          "output_type": "stream",
          "name": "stdout",
          "text": [
            "{1}\n"
          ]
        }
      ],
      "source": [
        "s1 = {1, 2, 3}\n",
        "s2 = {2, 3, 4}\n",
        "diff = s1.difference(s2)\n",
        "print(diff)  # {1}"
      ]
    },
    {
      "cell_type": "markdown",
      "id": "00a3553c",
      "metadata": {
        "id": "00a3553c"
      },
      "source": [
        "## difference_update()\n",
        "Removes items in this set that are also in another specified set."
      ]
    },
    {
      "cell_type": "code",
      "execution_count": 5,
      "id": "c4297691",
      "metadata": {
        "colab": {
          "base_uri": "https://localhost:8080/"
        },
        "id": "c4297691",
        "outputId": "b3a17356-7f3a-4163-d729-5443f4a21419"
      },
      "outputs": [
        {
          "output_type": "stream",
          "name": "stdout",
          "text": [
            "{1}\n"
          ]
        }
      ],
      "source": [
        "s1 = {1, 2, 3}\n",
        "s2 = {2, 3, 4}\n",
        "s1.difference_update(s2)\n",
        "print(s1)  # {1}"
      ]
    },
    {
      "cell_type": "markdown",
      "id": "87eb35e1",
      "metadata": {
        "id": "87eb35e1"
      },
      "source": [
        "## discard()\n",
        "Removes a specified element from the set. If the element is not present, no error is raised."
      ]
    },
    {
      "cell_type": "code",
      "execution_count": 6,
      "id": "af532c4c",
      "metadata": {
        "colab": {
          "base_uri": "https://localhost:8080/"
        },
        "id": "af532c4c",
        "outputId": "64ca8f00-d844-425b-c307-e347a2f07993"
      },
      "outputs": [
        {
          "output_type": "stream",
          "name": "stdout",
          "text": [
            "{1, 3}\n"
          ]
        }
      ],
      "source": [
        "s = {1, 2, 3}\n",
        "s.discard(2)\n",
        "print(s)  # {1, 3}"
      ]
    },
    {
      "cell_type": "markdown",
      "id": "db4a7649",
      "metadata": {
        "id": "db4a7649"
      },
      "source": [
        "## intersection()\n",
        "Returns a set containing the intersection of sets."
      ]
    },
    {
      "cell_type": "code",
      "execution_count": 7,
      "id": "81c742e9",
      "metadata": {
        "colab": {
          "base_uri": "https://localhost:8080/"
        },
        "id": "81c742e9",
        "outputId": "5579f1b8-ff08-450f-fd16-8e566bfac737"
      },
      "outputs": [
        {
          "output_type": "stream",
          "name": "stdout",
          "text": [
            "{2, 3}\n"
          ]
        }
      ],
      "source": [
        "s1 = {1, 2, 3}\n",
        "s2 = {2, 3, 4}\n",
        "inter = s1.intersection(s2)\n",
        "print(inter)  # {2, 3}"
      ]
    },
    {
      "cell_type": "markdown",
      "id": "8fc1b9d0",
      "metadata": {
        "id": "8fc1b9d0"
      },
      "source": [
        "## isdisjoint()\n",
        "Returns True if two sets have a null intersection."
      ]
    },
    {
      "cell_type": "code",
      "execution_count": 8,
      "id": "b97e345e",
      "metadata": {
        "colab": {
          "base_uri": "https://localhost:8080/"
        },
        "id": "b97e345e",
        "outputId": "d9042bc0-52d0-4d20-bdf6-a5f6640a4e8d"
      },
      "outputs": [
        {
          "output_type": "stream",
          "name": "stdout",
          "text": [
            "True\n"
          ]
        }
      ],
      "source": [
        "s1 = {1, 2}\n",
        "s2 = {3, 4}\n",
        "print(s1.isdisjoint(s2))  # True"
      ]
    },
    {
      "cell_type": "markdown",
      "id": "f30a3d10",
      "metadata": {
        "id": "f30a3d10"
      },
      "source": [
        "## issubset()\n",
        "Returns True if all elements of this set are present in another specified set."
      ]
    },
    {
      "cell_type": "code",
      "execution_count": 9,
      "id": "964ad0a3",
      "metadata": {
        "colab": {
          "base_uri": "https://localhost:8080/"
        },
        "id": "964ad0a3",
        "outputId": "f6a6427f-d0ce-4953-e3a2-581b9043d96b"
      },
      "outputs": [
        {
          "output_type": "stream",
          "name": "stdout",
          "text": [
            "True\n"
          ]
        }
      ],
      "source": [
        "s1 = {1, 2}\n",
        "s2 = {1, 2, 3}\n",
        "print(s1.issubset(s2))  # True"
      ]
    },
    {
      "cell_type": "markdown",
      "id": "875e9217",
      "metadata": {
        "id": "875e9217"
      },
      "source": [
        "## pop()\n",
        "Removes and returns an arbitrary element from the set."
      ]
    },
    {
      "cell_type": "code",
      "execution_count": 14,
      "id": "a92106af",
      "metadata": {
        "colab": {
          "base_uri": "https://localhost:8080/"
        },
        "id": "a92106af",
        "outputId": "38c3a1ff-065e-4cc6-9ce4-20ee478d5330"
      },
      "outputs": [
        {
          "output_type": "stream",
          "name": "stdout",
          "text": [
            "1 {2, 3}\n"
          ]
        }
      ],
      "source": [
        "s = {1, 2, 3}\n",
        "elem = s.pop()\n",
        "print(elem, s)  # e.g., 1 {2, 3}"
      ]
    },
    {
      "cell_type": "markdown",
      "id": "c074848a",
      "metadata": {
        "id": "c074848a"
      },
      "source": [
        "## remove()\n",
        "Removes a specified element from the set. If the element is not present, raises a KeyError."
      ]
    },
    {
      "cell_type": "code",
      "execution_count": 15,
      "id": "e308ae99",
      "metadata": {
        "colab": {
          "base_uri": "https://localhost:8080/"
        },
        "id": "e308ae99",
        "outputId": "84b2598e-599d-4874-cbd1-4b1f6e5564df"
      },
      "outputs": [
        {
          "output_type": "stream",
          "name": "stdout",
          "text": [
            "{1, 3}\n"
          ]
        }
      ],
      "source": [
        "s = {1, 2, 3}\n",
        "s.remove(2)\n",
        "print(s)  # {1, 3}"
      ]
    },
    {
      "cell_type": "markdown",
      "id": "60ac906e",
      "metadata": {
        "id": "60ac906e"
      },
      "source": [
        "## symmetric_difference()\n",
        "Returns a set containing the symmetric difference of two sets. In other words, this function excludes the intersection of two sets."
      ]
    },
    {
      "cell_type": "code",
      "execution_count": 16,
      "id": "86bfb32d",
      "metadata": {
        "colab": {
          "base_uri": "https://localhost:8080/"
        },
        "id": "86bfb32d",
        "outputId": "a050fd0e-1c77-4e53-89de-6570a8811429"
      },
      "outputs": [
        {
          "output_type": "stream",
          "name": "stdout",
          "text": [
            "{1, 4}\n"
          ]
        }
      ],
      "source": [
        "s1 = {1, 2, 3}\n",
        "s2 = {2, 3, 4}\n",
        "sym_diff = s1.symmetric_difference(s2)\n",
        "print(sym_diff)  # {1, 4}"
      ]
    },
    {
      "cell_type": "markdown",
      "id": "4955e085",
      "metadata": {
        "id": "4955e085"
      },
      "source": [
        "## symmetric_difference_update()\n",
        "*Updates* the set with the symmetric difference of itself and another set."
      ]
    },
    {
      "cell_type": "code",
      "execution_count": 17,
      "id": "ad0d0453",
      "metadata": {
        "colab": {
          "base_uri": "https://localhost:8080/"
        },
        "id": "ad0d0453",
        "outputId": "5e30981f-7e35-4bd3-ccaa-655c18db8f3f"
      },
      "outputs": [
        {
          "output_type": "stream",
          "name": "stdout",
          "text": [
            "{1, 4}\n"
          ]
        }
      ],
      "source": [
        "s1 = {1, 2, 3}\n",
        "s2 = {2, 3, 4}\n",
        "s1.symmetric_difference_update(s2)\n",
        "print(s1)  # {1, 4}"
      ]
    },
    {
      "cell_type": "markdown",
      "id": "1457f906",
      "metadata": {
        "id": "1457f906"
      },
      "source": [
        "## union()\n",
        "Returns a set containing the union of sets."
      ]
    },
    {
      "cell_type": "code",
      "execution_count": 18,
      "id": "305e4712",
      "metadata": {
        "colab": {
          "base_uri": "https://localhost:8080/"
        },
        "id": "305e4712",
        "outputId": "f9d8cc2d-2745-4124-b64d-81a18b276b9f"
      },
      "outputs": [
        {
          "output_type": "stream",
          "name": "stdout",
          "text": [
            "{1, 2, 3, 4}\n"
          ]
        }
      ],
      "source": [
        "s1 = {1, 2, 3}\n",
        "s2 = {2, 3, 4}\n",
        "uni = s1.union(s2)\n",
        "print(uni)  # {1, 2, 3, 4}"
      ]
    },
    {
      "cell_type": "markdown",
      "id": "261f6d5f",
      "metadata": {
        "id": "261f6d5f"
      },
      "source": [
        "## update()\n",
        "Updates the set with the union of itself and another set."
      ]
    },
    {
      "cell_type": "code",
      "execution_count": 19,
      "id": "dde6a144",
      "metadata": {
        "colab": {
          "base_uri": "https://localhost:8080/"
        },
        "id": "dde6a144",
        "outputId": "a0680754-0565-4d31-fbd3-64b09b620cb2"
      },
      "outputs": [
        {
          "output_type": "stream",
          "name": "stdout",
          "text": [
            "{1, 2, 3, 4}\n"
          ]
        }
      ],
      "source": [
        "s1 = {1, 2, 3}\n",
        "s2 = {2, 3, 4}\n",
        "s1.update(s2)\n",
        "print(s1)  # {1, 2, 3, 4}"
      ]
    }
  ],
  "metadata": {
    "colab": {
      "provenance": []
    },
    "language_info": {
      "name": "python"
    },
    "kernelspec": {
      "name": "python3",
      "display_name": "Python 3"
    }
  },
  "nbformat": 4,
  "nbformat_minor": 5
}