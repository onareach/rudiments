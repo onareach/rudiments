{
  "nbformat": 4,
  "nbformat_minor": 0,
  "metadata": {
    "colab": {
      "provenance": []
    },
    "kernelspec": {
      "name": "python3",
      "display_name": "Python 3"
    },
    "language_info": {
      "name": "python"
    }
  },
  "cells": [
    {
      "cell_type": "markdown",
      "source": [
        "This notebook contains code samples from UNR GRAD 778 Module 3 Python class"
      ],
      "metadata": {
        "id": "VeOvkY7WC9vX"
      }
    },
    {
      "cell_type": "code",
      "execution_count": null,
      "metadata": {
        "id": "oUu-mjafC3dN"
      },
      "outputs": [],
      "source": [
        "# Camel case variable: myVariableName = 'John'\n",
        "# Pascal case: MyVariableName = 'John'\n",
        "# Snake case: my_variable_name = 'John'"
      ]
    },
    {
      "cell_type": "code",
      "source": [
        "# Illustrate data types with descriptions:\n",
        "x = 'hello'\n",
        "print(f\"\\nValue: {x} is of type:\")\n",
        "print(type(x))   # str\n",
        "\n",
        "x = 20\n",
        "print(f\"\\nValue: {x} is of type:\")\n",
        "print(type(x))   # int\n",
        "\n",
        "x = 20.5\n",
        "print(f\"\\nValue: {x} is of type:\")\n",
        "print(type(x))   # float\n",
        "\n",
        "x = [\"apple\", \"banana\", \"cherry\"]\n",
        "print(f\"\\nValue: {x} is of type:\")\n",
        "print(type(x))   # list\n",
        "\n",
        "x = (\"apple\", \"banana\", \"cherry\")\n",
        "print(f\"\\nValue: {x} is of type:\")\n",
        "print(type(x))   # tuple\n",
        "\n",
        "x = {\"name\" : \"John\", \"age\" : 36}\n",
        "print(f\"\\nValue: {x} is of type:\")\n",
        "print(type(x))   # dict\n",
        "\n",
        "x = True\n",
        "print(f\"\\nValue: {x} is of type:\")\n",
        "print(type(x))   # bool\n",
        "\n",
        "x = None\n",
        "print(f\"\\nValue: {x} is of type:\")\n",
        "print(type(x))   # NoneType\n",
        "\n",
        "x = range(6)\n",
        "print(f\"\\nValue: {list(x)} is of type:\")\n",
        "print(type(x))   # range\n",
        "\n",
        "x = frozenset({\"apple\", \"banana\", \"cherry\"})\n",
        "print(f\"\\nValue: {x} is of type:\")\n",
        "print(type(x))   # frozenset\n",
        "\n",
        "x = b'hello'\n",
        "print(f\"\\nValue: {x} is of type:\")\n",
        "print(type(x))   # bytes\n",
        "\n",
        "x = bytearray(5)\n",
        "print(f\"\\nValue: {x} is of type:\")\n",
        "print(type(x))   # bytearray\n",
        "\n",
        "x = memoryview(bytes(5))\n",
        "print(f\"\\nValue: {x} is of type:\")\n",
        "print(type(x))   # memoryview\n"
      ],
      "metadata": {
        "colab": {
          "base_uri": "https://localhost:8080/"
        },
        "id": "O4hB8ratD1sh",
        "outputId": "d03a966b-4314-47c4-f0c8-1245759f0603"
      },
      "execution_count": 6,
      "outputs": [
        {
          "output_type": "stream",
          "name": "stdout",
          "text": [
            "\n",
            "Value: hello is of type:\n",
            "<class 'str'>\n",
            "\n",
            "Value: 20 is of type:\n",
            "<class 'int'>\n",
            "\n",
            "Value: 20.5 is of type:\n",
            "<class 'float'>\n",
            "\n",
            "Value: ['apple', 'banana', 'cherry'] is of type:\n",
            "<class 'list'>\n",
            "\n",
            "Value: ('apple', 'banana', 'cherry') is of type:\n",
            "<class 'tuple'>\n",
            "\n",
            "Value: {'name': 'John', 'age': 36} is of type:\n",
            "<class 'dict'>\n",
            "\n",
            "Value: True is of type:\n",
            "<class 'bool'>\n",
            "\n",
            "Value: None is of type:\n",
            "<class 'NoneType'>\n",
            "\n",
            "Value: [0, 1, 2, 3, 4, 5] is of type:\n",
            "<class 'range'>\n",
            "\n",
            "Value: frozenset({'apple', 'cherry', 'banana'}) is of type:\n",
            "<class 'frozenset'>\n",
            "\n",
            "Value: b'hello' is of type:\n",
            "<class 'bytes'>\n",
            "\n",
            "Value: bytearray(b'\\x00\\x00\\x00\\x00\\x00') is of type:\n",
            "<class 'bytearray'>\n",
            "\n",
            "Value: <memory at 0x7fd809861780> is of type:\n",
            "<class 'memoryview'>\n"
          ]
        }
      ]
    },
    {
      "cell_type": "code",
      "source": [
        "# This section is to illustrate the use of complex numbers - numbers that have\n",
        "# real and imaginary components. In the example below, 3 is the real part and\n",
        "# 4j is the imaginary component.\n",
        "\n",
        "# Define a complex number\n",
        "x = 3 + 4j\n",
        "\n",
        "# Display the value and type\n",
        "print(f\"\\nValue: {x} is of type:\")\n",
        "print(type(x))\n",
        "\n",
        "# Accessing real and imaginary parts\n",
        "print(f\"Real part: {x.real}\")\n",
        "print(f\"Imaginary part: {x.imag}\")\n",
        "\n",
        "# Performing arithmetic operations\n",
        "y = 2 - 3j\n",
        "sum_result = x + y\n",
        "product_result = x * y\n",
        "print(f\"\\nSum: {x} + {y} = {sum_result}\")\n",
        "print(f\"Product: {x} * {y} = {product_result}\")\n",
        "\n",
        "# Using the built-in complex() function\n",
        "z = complex(5, -2)  # Equivalent to 5 - 2j\n",
        "print(f\"\\nValue: {z} is of type:\")\n",
        "print(type(z))\n"
      ],
      "metadata": {
        "colab": {
          "base_uri": "https://localhost:8080/"
        },
        "id": "EhZKLS6YHxF6",
        "outputId": "5b5e8351-8553-4e4e-e0d1-9b7ac8992d62"
      },
      "execution_count": 7,
      "outputs": [
        {
          "output_type": "stream",
          "name": "stdout",
          "text": [
            "\n",
            "Value: (3+4j) is of type:\n",
            "<class 'complex'>\n",
            "Real part: 3.0\n",
            "Imaginary part: 4.0\n",
            "\n",
            "Sum: (3+4j) + (2-3j) = (5+1j)\n",
            "Product: (3+4j) * (2-3j) = (18-1j)\n",
            "\n",
            "Value: (5-2j) is of type:\n",
            "<class 'complex'>\n"
          ]
        }
      ]
    },
    {
      "cell_type": "code",
      "source": [
        "# You don't have to rely on the auto-casting of data types.\n",
        "# You can use constructor functions as follows:\n",
        "\n",
        "# Initial values\n",
        "int_1 = 3.4\n",
        "flt_1 = 4\n",
        "str_1 = 1\n",
        "\n",
        "print(f\"Initial values:\")\n",
        "print(f\"int_1: {int_1}\\nType: {type(int_1)}\\n\")\n",
        "print(f\"flt_1: {flt_1}\\nType: {type(flt_1)}\\n\")\n",
        "print(f\"str_1: {str_1}\\nType: {type(str_1)}\\n\")\n",
        "\n",
        "# Using constructor functions to override default assumptions\n",
        "int_1 = int(int_1)  # This converts 3.4 to 3, truncating the decimal\n",
        "flt_1 = float(flt_1)  # This converts 4 to 4.0\n",
        "str_1 = str(str_1)  # This converts 1 to '1', making it a string\n",
        "\n",
        "# Displaying the results with line breaks for better readability\n",
        "print(f\"int_1 (using int constructor): {int_1}\\nType: {type(int_1)}\\n\")\n",
        "print(f\"flt_1 (using float constructor): {flt_1}\\nType: {type(flt_1)}\\n\")\n",
        "print(f\"str_1 (using str constructor): {str_1}\\nType: {type(str_1)}\\n\")\n"
      ],
      "metadata": {
        "colab": {
          "base_uri": "https://localhost:8080/"
        },
        "id": "TKl335fxIrgZ",
        "outputId": "aebdb161-a075-4432-de76-bdcc7f639d27"
      },
      "execution_count": 11,
      "outputs": [
        {
          "output_type": "stream",
          "name": "stdout",
          "text": [
            "Initial values:\n",
            "int_1: 3.4\n",
            "Type: <class 'float'>\n",
            "\n",
            "flt_1: 4\n",
            "Type: <class 'int'>\n",
            "\n",
            "str_1: 1\n",
            "Type: <class 'int'>\n",
            "\n",
            "int_1 (using int constructor): 3\n",
            "Type: <class 'int'>\n",
            "\n",
            "flt_1 (using float constructor): 4.0\n",
            "Type: <class 'float'>\n",
            "\n",
            "str_1 (using str constructor): 1\n",
            "Type: <class 'str'>\n",
            "\n"
          ]
        }
      ]
    },
    {
      "cell_type": "code",
      "source": [
        "# This section illustrates string functions.\n",
        "\n",
        "# Original string\n",
        "original_string = \"   Hello, World! Welcome to Python programming.   \"\n",
        "\n",
        "# Using upper()\n",
        "upper_before = original_string\n",
        "upper_after = original_string.upper()\n",
        "print(f\"Before upper(): '{upper_before}'\\nAfter upper(): '{upper_after}'\\n\")\n",
        "\n",
        "# Using lower()\n",
        "lower_before = original_string\n",
        "lower_after = original_string.lower()\n",
        "print(f\"Before lower(): '{lower_before}'\\nAfter lower(): '{lower_after}'\\n\")\n",
        "\n",
        "# Using strip()\n",
        "strip_before = original_string\n",
        "strip_after = original_string.strip()\n",
        "print(f\"Before strip(): '{strip_before}'\\nAfter strip(): '{strip_after}'\\n\")\n",
        "\n",
        "# Using slice (e.g., to get 'Hello')\n",
        "slice_before = original_string\n",
        "slice_after = original_string.strip()[0:5]  # Stripping first to avoid whitespace issues\n",
        "print(f\"Before slice(): '{slice_before}'\\nAfter slice(): '{slice_after}'\\n\")\n",
        "\n",
        "# Using replace() (e.g., replacing 'World' with 'Universe')\n",
        "replace_before = original_string\n",
        "replace_after = original_string.replace(\"World\", \"Universe\")\n",
        "print(f\"Before replace(): '{replace_before}'\\nAfter replace(): '{replace_after}'\\n\")\n",
        "\n",
        "# Using split() (e.g., splitting by spaces)\n",
        "split_before = original_string.strip()\n",
        "split_after = split_before.split(\" \")\n",
        "print(f\"Before split(): '{split_before}'\\nAfter split(): {split_after}\\n\")\n"
      ],
      "metadata": {
        "colab": {
          "base_uri": "https://localhost:8080/"
        },
        "id": "iMw7UHnrLmzD",
        "outputId": "c549f388-484a-4d03-d357-07abc1582f5e"
      },
      "execution_count": 13,
      "outputs": [
        {
          "output_type": "stream",
          "name": "stdout",
          "text": [
            "Before upper(): '   Hello, World! Welcome to Python programming.   '\n",
            "After upper(): '   HELLO, WORLD! WELCOME TO PYTHON PROGRAMMING.   '\n",
            "\n",
            "Before lower(): '   Hello, World! Welcome to Python programming.   '\n",
            "After lower(): '   hello, world! welcome to python programming.   '\n",
            "\n",
            "Before strip(): '   Hello, World! Welcome to Python programming.   '\n",
            "After strip(): 'Hello, World! Welcome to Python programming.'\n",
            "\n",
            "Before slice(): '   Hello, World! Welcome to Python programming.   '\n",
            "After slice(): 'Hello'\n",
            "\n",
            "Before replace(): '   Hello, World! Welcome to Python programming.   '\n",
            "After replace(): '   Hello, Universe! Welcome to Python programming.   '\n",
            "\n",
            "Before split(): 'Hello, World! Welcome to Python programming.'\n",
            "After split(): ['Hello,', 'World!', 'Welcome', 'to', 'Python', 'programming.']\n",
            "\n"
          ]
        }
      ]
    }
  ]
}